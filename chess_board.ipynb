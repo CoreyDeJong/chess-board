{
 "cells": [
  {
   "cell_type": "code",
   "execution_count": 91,
   "metadata": {},
   "outputs": [],
   "source": [
    "import numpy as np\n",
    "import matplotlib.pyplot as plt"
   ]
  },
  {
   "cell_type": "code",
   "execution_count": 92,
   "metadata": {},
   "outputs": [],
   "source": [
    "class ChessBoard:\n",
    "    def __init__(self):\n",
    "        self.grid = np.zeros((8,8,3))\n",
    "        white = (1,1,1)\n",
    "\n",
    "\n",
    "    # for loop for creating the board\n",
    "        for i in range(0,8,2):\n",
    "            self.grid[i,0] = white\n",
    "            self.grid[i,2] = white\n",
    "            self.grid[i,4] = white\n",
    "            self.grid[i,6] = white\n",
    "            self.grid[i+1,1] = white\n",
    "            self.grid[i+1,3] = white\n",
    "            self.grid[i+1,5] = white\n",
    "            self.grid[i+1,7] = white\n",
    "        \n",
    "            \n",
    "\n",
    "        self.blue_queen = None\n",
    "        self.red_queen = None\n",
    "\n",
    "    # defines the colors red and blue\n",
    "        self.red = (1,0,0)\n",
    "        self.blue = (0,0,1)\n",
    "\n",
    "\n",
    "    def add_red(self, row, col):\n",
    "        self.red_queen = [row, col]\n",
    "        self.grid[row, col] = self.red \n",
    "\n",
    "    def add_blue(self, row, col):\n",
    "        self.blue_queen = [row, col]\n",
    "        self.grid[row, col] = self.blue\n",
    "    \n",
    "    def render(self):\n",
    "        plt.imshow(self.grid)\n",
    "\n",
    "    def is_under_attack(self):\n",
    "        # if row is the same, under attack\n",
    "        \n",
    "        if (self.blue_queen[0] == self.red_queen[0]) or (self.blue_queen[1] == self.red_queen[1]):\n",
    "            return True\n",
    "        if self.is_diagonal(self.red_queen[0],self.red_queen[1],self.blue_queen[0],self.blue_queen[1]):\n",
    "            return True\n",
    "        else:\n",
    "            return False \n",
    "\n",
    "        # if column is the same, under attack\n",
    "        # if column-column and row-row are zero, under attack\n",
    "        \n",
    "        \n",
    "    def is_diagonal(self, ax,ay,bx,by):\n",
    "        dx = abs(ax-bx)\n",
    "        dy = abs(ay-by)\n",
    "        return dx == dy\n",
    "\n",
    "    \n",
    "    \n"
   ]
  },
  {
   "cell_type": "code",
   "execution_count": 93,
   "metadata": {},
   "outputs": [],
   "source": [
    "# board = ChessBoard()\n",
    "# board.add_red(3,5)\n",
    "# board.add_blue(1,5)\n",
    "\n",
    "# # will render the white spaces on the chess board\n",
    "# board.render()\n",
    "\n",
    "\n",
    "\n",
    "\n"
   ]
  },
  {
   "cell_type": "code",
   "execution_count": 94,
   "metadata": {},
   "outputs": [],
   "source": [
    "# Test 1 - Queen Same Row\n",
    "board = ChessBoard()\n",
    "expected = True\n",
    "board.add_red(3,3)\n",
    "board.add_blue(3,5)\n",
    "actual = board.is_under_attack()\n",
    "assert actual == expected"
   ]
  },
  {
   "cell_type": "code",
   "execution_count": 95,
   "metadata": {},
   "outputs": [],
   "source": [
    "# Test 2 - Queen Column Under Attack\n",
    "board = ChessBoard()\n",
    "expected = True\n",
    "board.add_red(3,5)\n",
    "board.add_blue(1,5)\n",
    "actual = board.is_under_attack()\n",
    "assert actual == expected"
   ]
  },
  {
   "cell_type": "code",
   "execution_count": 98,
   "metadata": {},
   "outputs": [],
   "source": [
    "# Test 3 - Diagonal - Under Attack\n",
    "board = ChessBoard()\n",
    "expected = True\n",
    "board.add_red(3,3)\n",
    "board.add_blue(4,4)\n",
    "actual = board.is_under_attack()\n",
    "assert actual == expected"
   ]
  },
  {
   "cell_type": "code",
   "execution_count": 99,
   "metadata": {},
   "outputs": [],
   "source": [
    "# Test 4 - Not under Attack\n",
    "board = ChessBoard()\n",
    "expected = False\n",
    "board.add_red(3,3)\n",
    "board.add_blue(4,5)\n",
    "actual = board.is_under_attack()\n",
    "assert actual == expected"
   ]
  },
  {
   "cell_type": "code",
   "execution_count": null,
   "metadata": {},
   "outputs": [],
   "source": []
  }
 ],
 "metadata": {
  "language_info": {
   "codemirror_mode": {
    "name": "ipython",
    "version": 3
   },
   "file_extension": ".py",
   "mimetype": "text/x-python",
   "name": "python",
   "nbconvert_exporter": "python",
   "pygments_lexer": "ipython3",
   "version": "3.8.2-final"
  },
  "orig_nbformat": 2,
  "kernelspec": {
   "name": "python38264bitchessboardacq9rckhpy38venv797ddebc58814b7e98cf5ac9587745d2",
   "display_name": "Python 3.8.2 64-bit ('chess-board-aCq9RcKh-py3.8': venv)"
  }
 },
 "nbformat": 4,
 "nbformat_minor": 2
}